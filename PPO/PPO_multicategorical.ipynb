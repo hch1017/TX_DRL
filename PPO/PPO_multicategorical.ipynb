{
 "cells": [
  {
   "cell_type": "code",
   "execution_count": 1,
   "id": "3c9a702b",
   "metadata": {},
   "outputs": [],
   "source": [
    "import os\n",
    "import pandas as pd\n",
    "import numpy as np\n",
    "import time\n",
    "import random\n",
    "from torchvision import datasets, transforms\n",
    "import matplotlib.pyplot as plt\n",
    "import pickle\n",
    "from collections import namedtuple\n",
    "\n",
    "import gym\n",
    "import torch\n",
    "import torch.nn as nn\n",
    "import torch.nn.functional as F\n",
    "import torch.optim as optim\n",
    "from torch.autograd import Variable\n",
    "from torch.utils.data.sampler import BatchSampler, SubsetRandomSampler\n",
    "from torch.distributions import MultivariateNormal\n",
    "from torch.distributions import Categorical\n",
    "from torch.distributions import Normal\n",
    "from torch.utils.tensorboard import SummaryWriter\n",
    "\n",
    "from utils.model import PPO\n",
    "from utils.replaybuffer import RolloutBuffer\n",
    "from utils.AI_Interface import *\n",
    "from utils.reward import *\n",
    "from utils.dist import MultiCategoricalDistribution\n",
    "\n",
    "device = torch.device(\"cuda\" if torch.cuda.is_available() else \"cpu\")"
   ]
  },
  {
   "cell_type": "code",
   "execution_count": 2,
   "id": "14a07137",
   "metadata": {},
   "outputs": [
    {
     "name": "stderr",
     "output_type": "stream",
     "text": [
      "/home/huangchenghao/TX_airplane/PPO/utils/dist.py:13: UserWarning: Implicit dimension choice for softmax has been deprecated. Change the call to include dim=X as an argument.\n",
      "  self.distribution = [torch.distributions.Categorical(logits=F.softmax(split)) for split in torch.split(action_logits, tuple(self.action_dims), dim=1)]\n"
     ]
    }
   ],
   "source": [
    "state_dim = 428\n",
    "action_dim = 8\n",
    "lr_actor = 0.0003\n",
    "lr_critic = 0.001 \n",
    "gamma = 0.99\n",
    "# K_epochs = 1\n",
    "K_epochs = 80\n",
    "eps_clip = 0.2\n",
    "has_continuous_action_space = False\n",
    "action_std = 0.6\n",
    "\n",
    "fStickLat_shape=21\n",
    "fStickLon_shape=21\n",
    "fThrottle_shape=11\n",
    "fRudder_shape=21\n",
    "eMainTaskMode=2\n",
    "eEleScanLine_shape=2\n",
    "eAziScanRange=3\n",
    "WeaponLaunch=2\n",
    "\n",
    "action_dims = [fStickLat_shape, fStickLon_shape, fThrottle_shape, fRudder_shape,\n",
    "                           eMainTaskMode, eEleScanLine_shape, eAziScanRange, WeaponLaunch]\n",
    "\n",
    "agent = PPO(state_dim, action_dim, \n",
    "            fStickLat_shape, fStickLon_shape,\n",
    "            fThrottle_shape, fRudder_shape,\n",
    "            eMainTaskMode, eEleScanLine_shape,\n",
    "            eAziScanRange, WeaponLaunch, \n",
    "            lr_actor, lr_critic, gamma, K_epochs, eps_clip, has_continuous_action_space, action_std)\n",
    "mcd = MultiCategoricalDistribution(action_dims)\n",
    "\n",
    "data = pd.read_csv('../data',header=None)\n",
    "\n",
    "i = 2\n",
    "while i < (len(data)-1):\n",
    "    # 假设我们是红色飞机，蓝色飞机的状态动作默认不知道\n",
    "    # 把红蓝的input做成state，动作是红色的output\n",
    "    # 注意：428-609是空空导弹数据，不能用作state\n",
    "    # 注意！！！：离散PPO的过程中的action都得是每个空间中每个动作的logits\n",
    "    # 仅在交互时通过max找到index，再对应到具体动作上\n",
    "    \n",
    "#     state = data.iloc[i][:428].tolist() + data.iloc[i+1][:428].tolist()\n",
    "    state = data.iloc[i][:428].tolist()\n",
    "    action = data.iloc[i][609:].tolist()\n",
    "    action[-2] = action[-2]/120\n",
    "    action[-3] = action[-3]/4\n",
    "    \n",
    "    \n",
    "    # 为了方便做奖励，将所有变量都归类\n",
    "    # 需要当前input，当前output，上一步input\n",
    "    input_r_cur, output_r_cur = getStateAndAction(data.iloc[i])\n",
    "    input_b_cur, output_b_cur = getStateAndAction(data.iloc[i+1])\n",
    "    input_r_pre, _ = getStateAndAction(data.iloc[i-2])\n",
    "    input_b_pre, _ = getStateAndAction(data.iloc[i-1])\n",
    "    reward = getReward(input_r_pre, input_b_pre,\n",
    "             output_r_cur, output_b_cur,\n",
    "             input_r_cur, input_b_cur)\n",
    "    \n",
    "    # 终止flag\n",
    "    # 不知道时间单位，暂时没有考虑终止条件2\n",
    "    if ((input_r_cur.m_AircraftBasicInfo.m_bAlive == 0 or \n",
    "        input_r_cur.m_AircraftBasicInfo.m_fFuel <= 0 or\n",
    "        input_r_cur.m_AircraftMoveInfo.m_dSelfAlt <= 0) or\n",
    "        (input_b_cur.m_AircraftBasicInfo.m_bAlive == 0 or \n",
    "        input_b_cur.m_AircraftBasicInfo.m_fFuel <= 0 or\n",
    "        input_b_cur.m_AircraftMoveInfo.m_dSelfAlt <= 0)):\n",
    "        for i in range(len(input_r_cur.m_AAMDataSet.m_AAMData)):\n",
    "            if (input_r_cur.m_AAMDataSet.m_AAMData[i].m_eAAMState != 0) or \\\n",
    "            (input_b_cur.m_AAMDataSet.m_AAMData[i].m_eAAMState != 0):\n",
    "                done = 0\n",
    "            else:\n",
    "                done = 1\n",
    "    else:\n",
    "        done = 0\n",
    "        \n",
    "    state = torch.tensor(state).to(device)\n",
    "    action = torch.tensor(action).to(device)\n",
    "    reward = torch.tensor(np.array([reward])).to(device)\n",
    "    done = torch.tensor([done]).to(device)\n",
    "    \n",
    "    # 这里应该需要有对应的概率\n",
    "    mcd.proba_distribution(agent.policy.actor(state).unsqueeze(0))\n",
    "#     action = mcd.get_actions(deterministic=False)\n",
    "    logprob = mcd.log_prob(action.unsqueeze(0))\n",
    "    \n",
    "    agent.buffer.states.append(state)\n",
    "    agent.buffer.actions.append(action)\n",
    "    agent.buffer.logprobs.append(logprob)\n",
    "    agent.buffer.rewards.append(reward)\n",
    "    agent.buffer.is_terminals.append(done)\n",
    "    i = i + 2"
   ]
  },
  {
   "cell_type": "code",
   "execution_count": 4,
   "id": "d4762384",
   "metadata": {},
   "outputs": [],
   "source": [
    "agent.update()\n",
    "\n",
    "agent.save('checkpoint/PPO.pt')"
   ]
  },
  {
   "cell_type": "code",
   "execution_count": 5,
   "id": "f7c4b547",
   "metadata": {},
   "outputs": [
    {
     "data": {
      "text/plain": [
       "[<matplotlib.lines.Line2D at 0x7f501578e050>]"
      ]
     },
     "execution_count": 5,
     "metadata": {},
     "output_type": "execute_result"
    },
    {
     "data": {
      "image/png": "[encoded data removed]",
      "text/plain": [
       "<Figure size 432x288 with 1 Axes>"
      ]
     },
     "metadata": {
      "needs_background": "light"
     },
     "output_type": "display_data"
    }
   ],
   "source": [
    "plt.plot(agent.loss_record)"
   ]
  },
  {
   "cell_type": "code",
   "execution_count": 7,
   "id": "de1f4b3a",
   "metadata": {},
   "outputs": [
    {
     "name": "stderr",
     "output_type": "stream",
     "text": [
      "/home/huangchenghao/TX_airplane/PPO/utils/model.py:104: TracerWarning: Converting a tensor to a Python list might cause the trace to be incorrect. We can't record the data flow of Python values, so this value will be treated as a constant in the future. This means that the trace might not generalize to other inputs!\n",
      "  real_action.append(action_list[i][action.cpu().tolist()[0][i]])\n"
     ]
    }
   ],
   "source": [
    "torch.onnx.export(agent.policy_old.cpu(),\n",
    "                  (torch.randn(428)),\n",
    "                  \"checkpoint/model.onnx\", \n",
    "                   export_params=True,        # 是否保存训练好的参数在网络中\n",
    "                   opset_version=10,          # ONNX算子版本\n",
    "                   do_constant_folding=True,  # 是否不保存常数输出（优化选项）\n",
    "                   input_names = ['input'],   \n",
    "                   output_names = ['output'])"
   ]
  },
  {
   "cell_type": "code",
   "execution_count": null,
   "id": "5e491a53",
   "metadata": {},
   "outputs": [],
   "source": []
  }
 ],
 "metadata": {
  "kernelspec": {
   "display_name": "Python 3 (ipykernel)",
   "language": "python",
   "name": "python3"
  },
  "language_info": {
   "codemirror_mode": {
    "name": "ipython",
    "version": 3
   },
   "file_extension": ".py",
   "mimetype": "text/x-python",
   "name": "python",
   "nbconvert_exporter": "python",
   "pygments_lexer": "ipython3",
   "version": "3.7.4"
  }
 },
 "nbformat": 4,
 "nbformat_minor": 5
}
