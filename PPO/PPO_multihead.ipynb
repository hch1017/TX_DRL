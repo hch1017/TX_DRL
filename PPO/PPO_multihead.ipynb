{
 "cells": [
  {
   "cell_type": "code",
   "execution_count": 1,
   "id": "3c9a702b",
   "metadata": {},
   "outputs": [],
   "source": [
    "import os\n",
    "import pandas as pd\n",
    "import numpy as np\n",
    "import time\n",
    "import random\n",
    "from torchvision import datasets, transforms\n",
    "import matplotlib.pyplot as plt\n",
    "import pickle\n",
    "from collections import namedtuple\n",
    "\n",
    "import gym\n",
    "import torch\n",
    "import torch.nn as nn\n",
    "import torch.nn.functional as F\n",
    "import torch.optim as optim\n",
    "from torch.autograd import Variable\n",
    "from torch.utils.data.sampler import BatchSampler, SubsetRandomSampler\n",
    "from torch.distributions import MultivariateNormal\n",
    "from torch.distributions import Categorical\n",
    "from torch.distributions import Normal\n",
    "from torch.utils.tensorboard import SummaryWriter\n",
    "\n",
    "from utils.model import PPO\n",
    "from utils.replaybuffer import RolloutBuffer\n",
    "from utils.AI_Interface import *\n",
    "from utils.reward import *\n",
    "from utils.action_transform import *\n",
    "\n",
    "device = torch.device(\"cuda\" if torch.cuda.is_available() else \"cpu\")"
   ]
  },
  {
   "cell_type": "code",
   "execution_count": 2,
   "id": "14a07137",
   "metadata": {},
   "outputs": [
    {
     "ename": "KeyboardInterrupt",
     "evalue": "",
     "output_type": "error",
     "traceback": [
      "\u001b[0;31m---------------------------------------------------------------------------\u001b[0m",
      "\u001b[0;31mKeyboardInterrupt\u001b[0m                         Traceback (most recent call last)",
      "\u001b[0;32m/tmp/ipykernel_17850/266627997.py\u001b[0m in \u001b[0;36m<module>\u001b[0;34m\u001b[0m\n\u001b[1;32m     83\u001b[0m     \u001b[0mdist\u001b[0m \u001b[0;34m=\u001b[0m \u001b[0;34m[\u001b[0m\u001b[0;34m]\u001b[0m\u001b[0;34m\u001b[0m\u001b[0;34m\u001b[0m\u001b[0m\n\u001b[1;32m     84\u001b[0m     \u001b[0;32mfor\u001b[0m \u001b[0mi\u001b[0m \u001b[0;32min\u001b[0m \u001b[0mrange\u001b[0m\u001b[0;34m(\u001b[0m\u001b[0mlen\u001b[0m\u001b[0;34m(\u001b[0m\u001b[0maction_probs\u001b[0m\u001b[0;34m)\u001b[0m\u001b[0;34m)\u001b[0m\u001b[0;34m:\u001b[0m\u001b[0;34m\u001b[0m\u001b[0;34m\u001b[0m\u001b[0m\n\u001b[0;32m---> 85\u001b[0;31m         \u001b[0mdist\u001b[0m\u001b[0;34m.\u001b[0m\u001b[0mappend\u001b[0m\u001b[0;34m(\u001b[0m\u001b[0mCategorical\u001b[0m\u001b[0;34m(\u001b[0m\u001b[0mF\u001b[0m\u001b[0;34m.\u001b[0m\u001b[0msoftmax\u001b[0m\u001b[0;34m(\u001b[0m\u001b[0maction_probs\u001b[0m\u001b[0;34m[\u001b[0m\u001b[0mi\u001b[0m\u001b[0;34m]\u001b[0m\u001b[0;34m,\u001b[0m\u001b[0;36m0\u001b[0m\u001b[0;34m)\u001b[0m\u001b[0;34m)\u001b[0m\u001b[0;34m)\u001b[0m\u001b[0;34m\u001b[0m\u001b[0;34m\u001b[0m\u001b[0m\n\u001b[0m\u001b[1;32m     86\u001b[0m \u001b[0;34m\u001b[0m\u001b[0m\n\u001b[1;32m     87\u001b[0m     \u001b[0;32mfor\u001b[0m \u001b[0mi\u001b[0m \u001b[0;32min\u001b[0m \u001b[0mrange\u001b[0m\u001b[0;34m(\u001b[0m\u001b[0mlen\u001b[0m\u001b[0;34m(\u001b[0m\u001b[0maction_probs\u001b[0m\u001b[0;34m)\u001b[0m\u001b[0;34m)\u001b[0m\u001b[0;34m:\u001b[0m\u001b[0;34m\u001b[0m\u001b[0;34m\u001b[0m\u001b[0m\n",
      "\u001b[0;32m/opt/conda/lib/python3.7/site-packages/torch/distributions/categorical.py\u001b[0m in \u001b[0;36m__init__\u001b[0;34m(self, probs, logits, validate_args)\u001b[0m\n\u001b[1;32m     62\u001b[0m         \u001b[0mself\u001b[0m\u001b[0;34m.\u001b[0m\u001b[0m_num_events\u001b[0m \u001b[0;34m=\u001b[0m \u001b[0mself\u001b[0m\u001b[0;34m.\u001b[0m\u001b[0m_param\u001b[0m\u001b[0;34m.\u001b[0m\u001b[0msize\u001b[0m\u001b[0;34m(\u001b[0m\u001b[0;34m)\u001b[0m\u001b[0;34m[\u001b[0m\u001b[0;34m-\u001b[0m\u001b[0;36m1\u001b[0m\u001b[0;34m]\u001b[0m\u001b[0;34m\u001b[0m\u001b[0;34m\u001b[0m\u001b[0m\n\u001b[1;32m     63\u001b[0m         \u001b[0mbatch_shape\u001b[0m \u001b[0;34m=\u001b[0m \u001b[0mself\u001b[0m\u001b[0;34m.\u001b[0m\u001b[0m_param\u001b[0m\u001b[0;34m.\u001b[0m\u001b[0msize\u001b[0m\u001b[0;34m(\u001b[0m\u001b[0;34m)\u001b[0m\u001b[0;34m[\u001b[0m\u001b[0;34m:\u001b[0m\u001b[0;34m-\u001b[0m\u001b[0;36m1\u001b[0m\u001b[0;34m]\u001b[0m \u001b[0;32mif\u001b[0m \u001b[0mself\u001b[0m\u001b[0;34m.\u001b[0m\u001b[0m_param\u001b[0m\u001b[0;34m.\u001b[0m\u001b[0mndimension\u001b[0m\u001b[0;34m(\u001b[0m\u001b[0;34m)\u001b[0m \u001b[0;34m>\u001b[0m \u001b[0;36m1\u001b[0m \u001b[0;32melse\u001b[0m \u001b[0mtorch\u001b[0m\u001b[0;34m.\u001b[0m\u001b[0mSize\u001b[0m\u001b[0;34m(\u001b[0m\u001b[0;34m)\u001b[0m\u001b[0;34m\u001b[0m\u001b[0;34m\u001b[0m\u001b[0m\n\u001b[0;32m---> 64\u001b[0;31m         \u001b[0msuper\u001b[0m\u001b[0;34m(\u001b[0m\u001b[0mCategorical\u001b[0m\u001b[0;34m,\u001b[0m \u001b[0mself\u001b[0m\u001b[0;34m)\u001b[0m\u001b[0;34m.\u001b[0m\u001b[0m__init__\u001b[0m\u001b[0;34m(\u001b[0m\u001b[0mbatch_shape\u001b[0m\u001b[0;34m,\u001b[0m \u001b[0mvalidate_args\u001b[0m\u001b[0;34m=\u001b[0m\u001b[0mvalidate_args\u001b[0m\u001b[0;34m)\u001b[0m\u001b[0;34m\u001b[0m\u001b[0;34m\u001b[0m\u001b[0m\n\u001b[0m\u001b[1;32m     65\u001b[0m \u001b[0;34m\u001b[0m\u001b[0m\n\u001b[1;32m     66\u001b[0m     \u001b[0;32mdef\u001b[0m \u001b[0mexpand\u001b[0m\u001b[0;34m(\u001b[0m\u001b[0mself\u001b[0m\u001b[0;34m,\u001b[0m \u001b[0mbatch_shape\u001b[0m\u001b[0;34m,\u001b[0m \u001b[0m_instance\u001b[0m\u001b[0;34m=\u001b[0m\u001b[0;32mNone\u001b[0m\u001b[0;34m)\u001b[0m\u001b[0;34m:\u001b[0m\u001b[0;34m\u001b[0m\u001b[0;34m\u001b[0m\u001b[0m\n",
      "\u001b[0;32m/opt/conda/lib/python3.7/site-packages/torch/distributions/distribution.py\u001b[0m in \u001b[0;36m__init__\u001b[0;34m(self, batch_shape, event_shape, validate_args)\u001b[0m\n\u001b[1;32m     50\u001b[0m                 \u001b[0;32mif\u001b[0m \u001b[0mparam\u001b[0m \u001b[0;32mnot\u001b[0m \u001b[0;32min\u001b[0m \u001b[0mself\u001b[0m\u001b[0;34m.\u001b[0m\u001b[0m__dict__\u001b[0m \u001b[0;32mand\u001b[0m \u001b[0misinstance\u001b[0m\u001b[0;34m(\u001b[0m\u001b[0mgetattr\u001b[0m\u001b[0;34m(\u001b[0m\u001b[0mtype\u001b[0m\u001b[0;34m(\u001b[0m\u001b[0mself\u001b[0m\u001b[0;34m)\u001b[0m\u001b[0;34m,\u001b[0m \u001b[0mparam\u001b[0m\u001b[0;34m)\u001b[0m\u001b[0;34m,\u001b[0m \u001b[0mlazy_property\u001b[0m\u001b[0;34m)\u001b[0m\u001b[0;34m:\u001b[0m\u001b[0;34m\u001b[0m\u001b[0;34m\u001b[0m\u001b[0m\n\u001b[1;32m     51\u001b[0m                     \u001b[0;32mcontinue\u001b[0m  \u001b[0;31m# skip checking lazily-constructed args\u001b[0m\u001b[0;34m\u001b[0m\u001b[0;34m\u001b[0m\u001b[0m\n\u001b[0;32m---> 52\u001b[0;31m                 \u001b[0;32mif\u001b[0m \u001b[0;32mnot\u001b[0m \u001b[0mconstraint\u001b[0m\u001b[0;34m.\u001b[0m\u001b[0mcheck\u001b[0m\u001b[0;34m(\u001b[0m\u001b[0mgetattr\u001b[0m\u001b[0;34m(\u001b[0m\u001b[0mself\u001b[0m\u001b[0;34m,\u001b[0m \u001b[0mparam\u001b[0m\u001b[0;34m)\u001b[0m\u001b[0;34m)\u001b[0m\u001b[0;34m.\u001b[0m\u001b[0mall\u001b[0m\u001b[0;34m(\u001b[0m\u001b[0;34m)\u001b[0m\u001b[0;34m:\u001b[0m\u001b[0;34m\u001b[0m\u001b[0;34m\u001b[0m\u001b[0m\n\u001b[0m\u001b[1;32m     53\u001b[0m                     \u001b[0;32mraise\u001b[0m \u001b[0mValueError\u001b[0m\u001b[0;34m(\u001b[0m\u001b[0;34m\"The parameter {} has invalid values\"\u001b[0m\u001b[0;34m.\u001b[0m\u001b[0mformat\u001b[0m\u001b[0;34m(\u001b[0m\u001b[0mparam\u001b[0m\u001b[0;34m)\u001b[0m\u001b[0;34m)\u001b[0m\u001b[0;34m\u001b[0m\u001b[0;34m\u001b[0m\u001b[0m\n\u001b[1;32m     54\u001b[0m         \u001b[0msuper\u001b[0m\u001b[0;34m(\u001b[0m\u001b[0mDistribution\u001b[0m\u001b[0;34m,\u001b[0m \u001b[0mself\u001b[0m\u001b[0;34m)\u001b[0m\u001b[0;34m.\u001b[0m\u001b[0m__init__\u001b[0m\u001b[0;34m(\u001b[0m\u001b[0;34m)\u001b[0m\u001b[0;34m\u001b[0m\u001b[0;34m\u001b[0m\u001b[0m\n",
      "\u001b[0;32m/opt/conda/lib/python3.7/site-packages/torch/distributions/constraints.py\u001b[0m in \u001b[0;36mcheck\u001b[0;34m(self, value)\u001b[0m\n\u001b[1;32m    397\u001b[0m \u001b[0;34m\u001b[0m\u001b[0m\n\u001b[1;32m    398\u001b[0m     \u001b[0;32mdef\u001b[0m \u001b[0mcheck\u001b[0m\u001b[0;34m(\u001b[0m\u001b[0mself\u001b[0m\u001b[0;34m,\u001b[0m \u001b[0mvalue\u001b[0m\u001b[0;34m)\u001b[0m\u001b[0;34m:\u001b[0m\u001b[0;34m\u001b[0m\u001b[0;34m\u001b[0m\u001b[0m\n\u001b[0;32m--> 399\u001b[0;31m         \u001b[0;32mreturn\u001b[0m \u001b[0mtorch\u001b[0m\u001b[0;34m.\u001b[0m\u001b[0mall\u001b[0m\u001b[0;34m(\u001b[0m\u001b[0mvalue\u001b[0m \u001b[0;34m>=\u001b[0m \u001b[0;36m0\u001b[0m\u001b[0;34m,\u001b[0m \u001b[0mdim\u001b[0m\u001b[0;34m=\u001b[0m\u001b[0;34m-\u001b[0m\u001b[0;36m1\u001b[0m\u001b[0;34m)\u001b[0m \u001b[0;34m&\u001b[0m \u001b[0;34m(\u001b[0m\u001b[0;34m(\u001b[0m\u001b[0mvalue\u001b[0m\u001b[0;34m.\u001b[0m\u001b[0msum\u001b[0m\u001b[0;34m(\u001b[0m\u001b[0;34m-\u001b[0m\u001b[0;36m1\u001b[0m\u001b[0;34m)\u001b[0m \u001b[0;34m-\u001b[0m \u001b[0;36m1\u001b[0m\u001b[0;34m)\u001b[0m\u001b[0;34m.\u001b[0m\u001b[0mabs\u001b[0m\u001b[0;34m(\u001b[0m\u001b[0;34m)\u001b[0m \u001b[0;34m<\u001b[0m \u001b[0;36m1e-6\u001b[0m\u001b[0;34m)\u001b[0m\u001b[0;34m\u001b[0m\u001b[0;34m\u001b[0m\u001b[0m\n\u001b[0m\u001b[1;32m    400\u001b[0m \u001b[0;34m\u001b[0m\u001b[0m\n\u001b[1;32m    401\u001b[0m \u001b[0;34m\u001b[0m\u001b[0m\n",
      "\u001b[0;31mKeyboardInterrupt\u001b[0m: "
     ]
    }
   ],
   "source": [
    "state_dim = 428\n",
    "action_dim = 8\n",
    "lr_actor = 0.0003\n",
    "lr_critic = 0.001 \n",
    "gamma = 0.99\n",
    "# K_epochs = 1\n",
    "K_epochs = 80\n",
    "eps_clip = 0.2\n",
    "\n",
    "fStickLat_shape=21\n",
    "fStickLon_shape=21\n",
    "fThrottle_shape=11\n",
    "fRudder_shape=21\n",
    "eMainTaskMode=2\n",
    "eEleScanLine_shape=2\n",
    "eAziScanRange=3\n",
    "WeaponLaunch=2\n",
    "\n",
    "agent = PPO(state_dim,\n",
    "            fStickLat_shape, fStickLon_shape,\n",
    "            fThrottle_shape, fRudder_shape,\n",
    "            eMainTaskMode, eEleScanLine_shape,\n",
    "            eAziScanRange, WeaponLaunch, \n",
    "            lr_actor, lr_critic, gamma, K_epochs, eps_clip)\n",
    "\n",
    "data = pd.read_csv('../data',header=None)\n",
    "\n",
    "i = 2\n",
    "while i < (len(data)-1):\n",
    "    # 假设我们是红色飞机，蓝色飞机的状态动作默认不知道\n",
    "    # 把红蓝的input做成state，动作是红色的output\n",
    "    # 注意：428-609是空空导弹数据，不能用作state\n",
    "    # 注意！！！：离散PPO的过程中的action都得是每个空间中每个动作的logits\n",
    "    # 仅在交互时通过max找到index，再对应到具体动作上\n",
    "    \n",
    "    state = data.iloc[i][:428].tolist()\n",
    "    action = data.iloc[i][609:].tolist()\n",
    "    action = action_transform(action)\n",
    "    \n",
    "    # 为了方便做奖励，将所有变量都归类\n",
    "    # 需要当前input，当前output，上一步input\n",
    "    input_r_cur, output_r_cur = getStateAndAction(data.iloc[i])\n",
    "    input_b_cur, output_b_cur = getStateAndAction(data.iloc[i+1])\n",
    "    input_r_pre, _ = getStateAndAction(data.iloc[i-2])\n",
    "    input_b_pre, _ = getStateAndAction(data.iloc[i-1])\n",
    "    reward = getReward(input_r_pre, input_b_pre,\n",
    "             output_r_cur, output_b_cur,\n",
    "             input_r_cur, input_b_cur)\n",
    "    \n",
    "    # 终止flag\n",
    "    # 不知道时间单位，暂时没有考虑终止条件2\n",
    "    if ((input_r_cur.m_AircraftBasicInfo.m_bAlive == 0 or \n",
    "        input_r_cur.m_AircraftBasicInfo.m_fFuel <= 0 or\n",
    "        input_r_cur.m_AircraftMoveInfo.m_dSelfAlt <= 0) or\n",
    "        (input_b_cur.m_AircraftBasicInfo.m_bAlive == 0 or \n",
    "        input_b_cur.m_AircraftBasicInfo.m_fFuel <= 0 or\n",
    "        input_b_cur.m_AircraftMoveInfo.m_dSelfAlt <= 0)):\n",
    "        for i in range(len(input_r_cur.m_AAMDataSet.m_AAMData)):\n",
    "            if (input_r_cur.m_AAMDataSet.m_AAMData[i].m_eAAMState != 0) or \\\n",
    "            (input_b_cur.m_AAMDataSet.m_AAMData[i].m_eAAMState != 0):\n",
    "                done = 0\n",
    "            else:\n",
    "                done = 1\n",
    "    else:\n",
    "        done = 0\n",
    "        \n",
    "    state = torch.tensor(state).to(device)\n",
    "    action = torch.tensor(action).to(device)\n",
    "    reward = torch.tensor(np.array([reward])).to(device)\n",
    "    done = torch.tensor([done]).to(device)\n",
    "\n",
    "    # 这里应该需要有对应的概率，8维，每个维度是21，21，11，21，2，2，3，2\n",
    "    action_probs = [] \n",
    "    action_probs.append(agent.policy.actor1(agent.policy.fc(state)))\n",
    "    action_probs.append(agent.policy.actor2(agent.policy.fc(state)))\n",
    "    action_probs.append(agent.policy.actor3(agent.policy.fc(state)))\n",
    "    action_probs.append(agent.policy.actor4(agent.policy.fc(state)))\n",
    "    action_probs.append(agent.policy.actor5(agent.policy.fc(state)))\n",
    "    action_probs.append(agent.policy.actor6(agent.policy.fc(state)))\n",
    "    action_probs.append(agent.policy.actor7(agent.policy.fc(state)))\n",
    "    action_probs.append(agent.policy.actor8(agent.policy.fc(state)))\n",
    "\n",
    "    dist = []\n",
    "    for i in range(len(action_probs)):\n",
    "        dist.append(Categorical(F.softmax(action_probs[i],0)))\n",
    "\n",
    "    for i in range(len(action_probs)):\n",
    "        if i == 0:\n",
    "            action_logprob = dist[i].log_prob(action[i]).unsqueeze(0)\n",
    "        else:\n",
    "            action_logprob = torch.cat([action_logprob, dist[i].log_prob(action[i]).unsqueeze(0)],0)\n",
    "    \n",
    "    agent.buffer.states.append(state)\n",
    "    agent.buffer.actions.append(action)\n",
    "    agent.buffer.logprobs.append(action_logprob)\n",
    "    agent.buffer.rewards.append(reward)\n",
    "    agent.buffer.is_terminals.append(done)\n",
    "    i = i + 2"
   ]
  },
  {
   "cell_type": "code",
   "execution_count": 3,
   "id": "d4762384",
   "metadata": {},
   "outputs": [],
   "source": [
    "agent.update()\n",
    "\n",
    "agent.save('checkpoint/PPO.pt')"
   ]
  },
  {
   "cell_type": "code",
   "execution_count": 4,
   "id": "f7c4b547",
   "metadata": {},
   "outputs": [
    {
     "data": {
      "text/plain": [
       "[<matplotlib.lines.Line2D at 0x7ff2d0fb7a50>]"
      ]
     },
     "execution_count": 4,
     "metadata": {},
     "output_type": "execute_result"
    },
    {
     "data": {
      "image/png": "[encoded data removed]",
      "text/plain": [
       "<Figure size 432x288 with 1 Axes>"
      ]
     },
     "metadata": {
      "needs_background": "light"
     },
     "output_type": "display_data"
    }
   ],
   "source": [
    "plt.plot(agent.loss_record)"
   ]
  },
  {
   "cell_type": "code",
   "execution_count": 5,
   "id": "de1f4b3a",
   "metadata": {},
   "outputs": [],
   "source": [
    "torch.onnx.export(agent.policy_old.cpu(),\n",
    "                  (torch.randn(428)),\n",
    "                  \"checkpoint/PPO.onnx\", \n",
    "                   export_params=True,        # 是否保存训练好的参数在网络中\n",
    "                   opset_version=10,          # ONNX算子版本\n",
    "                   do_constant_folding=True,  # 是否不保存常数输出（优化选项）\n",
    "                   input_names = ['input'],   \n",
    "                   output_names = ['fStickLat_shape', 'fStickLon_shape', 'fThrottle_shape', 'fRudder_shape',\n",
    "                 'eMainTaskMode', 'eEleScanLine_shape', 'eAziScanRange', 'WeaponLaunch'])"
   ]
  },
  {
   "cell_type": "code",
   "execution_count": null,
   "id": "5e491a53",
   "metadata": {},
   "outputs": [],
   "source": []
  }
 ],
 "metadata": {
  "kernelspec": {
   "display_name": "Python 3 (ipykernel)",
   "language": "python",
   "name": "python3"
  },
  "language_info": {
   "codemirror_mode": {
    "name": "ipython",
    "version": 3
   },
   "file_extension": ".py",
   "mimetype": "text/x-python",
   "name": "python",
   "nbconvert_exporter": "python",
   "pygments_lexer": "ipython3",
   "version": "3.7.4"
  }
 },
 "nbformat": 4,
 "nbformat_minor": 5
}
